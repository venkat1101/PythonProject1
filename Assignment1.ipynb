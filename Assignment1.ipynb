{
 "cells": [
  {
   "cell_type": "markdown",
   "metadata": {},
   "source": [
    "# 2.1. Problem Statement: PYTHON 1"
   ]
  },
  {
   "cell_type": "markdown",
   "metadata": {},
   "source": [
    "## 1. Install Jupyter notebook and run the first program and share the screenshot of the output."
   ]
  },
  {
   "cell_type": "code",
   "execution_count": 1,
   "metadata": {
    "scrolled": false
   },
   "outputs": [
    {
     "name": "stdout",
     "output_type": "stream",
     "text": [
      "Hi, this is first python program\n"
     ]
    }
   ],
   "source": [
    "print(\"Hi, this is first python program\")"
   ]
  },
  {
   "cell_type": "markdown",
   "metadata": {},
   "source": [
    "## 2.Write a program which will find all such numbers which are divisible by 7 but are not a multiple of 5, between 2000 and 3200 (both included). The numbers obtained should be printedin a comma-separated sequence on a single line."
   ]
  },
  {
   "cell_type": "code",
   "execution_count": 7,
   "metadata": {},
   "outputs": [
    {
     "name": "stdout",
     "output_type": "stream",
     "text": [
      "2002,2009,2016,2023,2037,2044,2051,2058,2072,2079,2086,2093,2107,2114,2121,2128,2142,2149,2156,2163,2177,2184,2191,2198,2212,2219,2226,2233,2247,2254,2261,2268,2282,2289,2296,2303,2317,2324,2331,2338,2352,2359,2366,2373,2387,2394,2401,2408,2422,2429,2436,2443,2457,2464,2471,2478,2492,2499,2506,2513,2527,2534,2541,2548,2562,2569,2576,2583,2597,2604,2611,2618,2632,2639,2646,2653,2667,2674,2681,2688,2702,2709,2716,2723,2737,2744,2751,2758,2772,2779,2786,2793,2807,2814,2821,2828,2842,2849,2856,2863,2877,2884,2891,2898,2912,2919,2926,2933,2947,2954,2961,2968,2982,2989,2996,3003,3017,3024,3031,3038,3052,3059,3066,3073,3087,3094,3101,3108,3122,3129,3136,3143,3157,3164,3171,3178,3192,3199\n"
     ]
    }
   ],
   "source": [
    "resultData = []\n",
    "nums = list(range(2000,3201))\n",
    "for num in nums:\n",
    "    if num%7 == 0 and num%5 != 0 :\n",
    "        resultData.append(str(num))\n",
    "\n",
    "#Join the result by comma\n",
    "separator = ','\n",
    "print(separator.join(resultData))"
   ]
  },
  {
   "cell_type": "markdown",
   "metadata": {},
   "source": [
    "## 3. Write a Python program to accept the user's first and last name and then getting them printed in the the reverse order with a space between first name and last name."
   ]
  },
  {
   "cell_type": "code",
   "execution_count": 18,
   "metadata": {},
   "outputs": [
    {
     "name": "stdout",
     "output_type": "stream",
     "text": [
      "Actual name is venkat kumar\n",
      "Reversed name is taknev ramuk\n"
     ]
    }
   ],
   "source": [
    "userFirstName = 'venkat'\n",
    "userLastName = 'kumar'\n",
    "reverseFirst = userFirstName[::-1] # slicing\n",
    "reverseLast = ''\n",
    "for i in list(range(len(userLastName)-1, -1, -1)):\n",
    "    reverseLast += userLastName[i]\n",
    "\n",
    "print(\"Actual name is \" + userFirstName + ' ' + userLastName)\n",
    "print(\"Reversed name is \" + reverseFirst + ' ' + reverseLast)"
   ]
  },
  {
   "cell_type": "markdown",
   "metadata": {},
   "source": [
    "## 4. Write a Python program to find the volume of a sphere with diameter 12 cm. Formula: V=4/3 * π * r"
   ]
  },
  {
   "cell_type": "code",
   "execution_count": 21,
   "metadata": {},
   "outputs": [
    {
     "name": "stdout",
     "output_type": "stream",
     "text": [
      "Volume of sphere with diameter 12 cm is 25.132741228718345\n"
     ]
    }
   ],
   "source": [
    "import math\n",
    "d = 12\n",
    "r= d/2\n",
    "pi = math.pi\n",
    "v= (4/3)*pi*r\n",
    "print('Volume of sphere with diameter ' + str(d) + ' cm is '+ str(v))"
   ]
  },
  {
   "cell_type": "markdown",
   "metadata": {},
   "source": [
    "# 2.2. Problem Statement: PYTHON 2 "
   ]
  },
  {
   "cell_type": "markdown",
   "metadata": {},
   "source": [
    "## 1. Write a program which accepts a sequence of comma-separated numbers from console and generate a list."
   ]
  },
  {
   "cell_type": "code",
   "execution_count": 24,
   "metadata": {},
   "outputs": [
    {
     "name": "stdout",
     "output_type": "stream",
     "text": [
      "Enter comma-separated numbers:4,5,6,7\n",
      "['4', '5', '6', '7']\n"
     ]
    }
   ],
   "source": [
    "uInput = input('Enter comma-separated numbers:')\n",
    "print(uInput.split(','))"
   ]
  },
  {
   "cell_type": "markdown",
   "metadata": {},
   "source": [
    "## 2 Create the below pattern using nested for loop in Python.\n",
    "### *\n",
    "### * *\n",
    "### * * *\n",
    "### * * * *\n",
    "### * * * * *\n",
    "### * * * *\n",
    "### * * *\n",
    "### * *\n",
    "### *"
   ]
  },
  {
   "cell_type": "code",
   "execution_count": 8,
   "metadata": {},
   "outputs": [
    {
     "name": "stdout",
     "output_type": "stream",
     "text": [
      "\n",
      "\n",
      "*\n",
      "\n",
      "**\n",
      "\n",
      "***\n",
      "\n",
      "****\n",
      "\n",
      "*****\n",
      "\n",
      "****\n",
      "\n",
      "***\n",
      "\n",
      "**\n",
      "\n",
      "*\n",
      "\n"
     ]
    }
   ],
   "source": [
    "num = 5\n",
    "for i in list(range(0,(num*2))):\n",
    "    if i<=num :\n",
    "        newRange = list(range(0,i))\n",
    "    else:\n",
    "        newRange = list(range(num,i-num,-1))\n",
    "    for j in newRange:\n",
    "        print('*', end = '')\n",
    "    print('\\n')"
   ]
  },
  {
   "cell_type": "markdown",
   "metadata": {},
   "source": [
    "# 3. Write a Python program to reverse a word after accepting the input from the user.\n",
    "## Sample Output:\n",
    "\n",
    "## Input word: AcadGild\n",
    "## Output: dilGdacA"
   ]
  },
  {
   "cell_type": "code",
   "execution_count": 12,
   "metadata": {},
   "outputs": [
    {
     "name": "stdout",
     "output_type": "stream",
     "text": [
      "Enter a word:Acadgild\n",
      "dligdacA\n"
     ]
    }
   ],
   "source": [
    "uInput = input('Enter a word:')\n",
    "rev = ''\n",
    "for c in uInput:\n",
    "    rev = c + rev\n",
    "\n",
    "print(rev)"
   ]
  },
  {
   "cell_type": "markdown",
   "metadata": {},
   "source": [
    "## 4. Write a Python Program to print the given string in the format specified in the sample output.\n",
    "## WE, THE PEOPLE OF INDIA, having solemnly resolved to constitute India into a SOVEREIGN,\n",
    "## SOCIALIST, SECULAR, DEMOCRATIC REPUBLIC and to secure to all its citizens\n",
    "## Sample Output:\n",
    "    WE, THE PEOPLE OF INDIA,\n",
    "        having solemnly resolved to constitute India into a SOVEREIGN,\n",
    "            SOCIALIST, SECULAR, DEMOCRATIC\n",
    "                REPUBLIC and to secure to all its citizens"
   ]
  },
  {
   "cell_type": "code",
   "execution_count": 13,
   "metadata": {},
   "outputs": [
    {
     "name": "stdout",
     "output_type": "stream",
     "text": [
      "WE, THE PEOPLE OF INDIA, \n",
      "\thaving solemnly resolved to constitute India into a SOVEREIGN, \n",
      "\t\tSOCIALIST, SECULAR, DEMOCRATIC \n",
      "\t\t\tREPUBLIC and to secure to all its citizens\n"
     ]
    }
   ],
   "source": [
    "print(\"WE, THE PEOPLE OF INDIA, \\n\\thaving solemnly resolved to constitute India into a SOVEREIGN, \\n\\t\\tSOCIALIST, SECULAR, DEMOCRATIC \\n\\t\\t\\tREPUBLIC and to secure to all its citizens\")"
   ]
  },
  {
   "cell_type": "markdown",
   "metadata": {},
   "source": [
    "# 2.3. Problem Statement: PYTHON 3"
   ]
  },
  {
   "cell_type": "markdown",
   "metadata": {},
   "source": [
    "## 1.1. Write a Python Program to implement your own myreduce() function which works exactly like Python's built-in function reduce()"
   ]
  },
  {
   "cell_type": "code",
   "execution_count": 14,
   "metadata": {},
   "outputs": [
    {
     "name": "stdout",
     "output_type": "stream",
     "text": [
      "Sum of list values is:  23\n"
     ]
    }
   ],
   "source": [
    "def add(x,y):\n",
    "    return x+y\n",
    "\n",
    "def myreduce(func,l):\n",
    "    out = l[0]\n",
    "    for i in list(range(1,len(l))):\n",
    "        out = func(out,l[i])\n",
    "    \n",
    "    return out\n",
    "\n",
    "l = [3,5,4,9,2]\n",
    "sumOfList = myreduce(add,l)\n",
    "print(\"Sum of list values is: \", sumOfList)"
   ]
  },
  {
   "cell_type": "markdown",
   "metadata": {},
   "source": [
    "## 1.2. Write a Python program to implement your own myfilter() function which works exactly like Python's built-in function filter() "
   ]
  },
  {
   "cell_type": "code",
   "execution_count": 3,
   "metadata": {},
   "outputs": [
    {
     "name": "stdout",
     "output_type": "stream",
     "text": [
      "Even Numbers are:  [8, 6, 4, 98]\n"
     ]
    }
   ],
   "source": [
    "def onlyEven(x):\n",
    "    if x % 2 == 0:\n",
    "        return True;\n",
    "    else:\n",
    "        return False;\n",
    "\n",
    "def myfilter(func,arr):\n",
    "    filterArr = []\n",
    "    for val in arr:\n",
    "        isEven = func(val)\n",
    "        if isEven:\n",
    "            filterArr.append(val)\n",
    "    \n",
    "    return filterArr\n",
    "\n",
    "data = [8,5,6,4,3,11,45,98]\n",
    "evenNumbers = myfilter(onlyEven, data)\n",
    "print(\"Even Numbers are: \", evenNumbers)"
   ]
  },
  {
   "cell_type": "markdown",
   "metadata": {},
   "source": [
    "## 2. Implement List comprehensions to produce the following lists.\n",
    "## Write List comprehensions to produce the following Lists.\n",
    "## ['A', 'C', 'A', 'D', 'G', 'I', ’L’, ‘ D’]\n",
    "## ['x', 'xx', 'xxx', 'xxxx', 'y', 'yy', 'yyy', 'yyyy', 'z', 'zz', 'zzz', 'zzzz']\n",
    "## ['x', 'y', 'z', 'xx', 'yy', 'zz', 'xxx', 'yyy', 'zzz', 'xxxx', 'yyyy', 'zzzz']\n",
    "## [[2], [3], [4], [3], [4], [5], [4], [5], [6]]\n",
    "## [[2, 3, 4, 5], [3, 4, 5, 6], [4, 5, 6, 7], [5, 6, 7, 8]]\n",
    "## [(1, 1), (2, 1), (3, 1), (1, 2), (2, 2), (3, 2), (1, 3), (2, 3), (3, 3)]"
   ]
  },
  {
   "cell_type": "code",
   "execution_count": 1,
   "metadata": {},
   "outputs": [
    {
     "name": "stdout",
     "output_type": "stream",
     "text": [
      "['A', 'C', 'A', 'D', 'G', 'I', 'L', 'D']\n",
      "['x', 'xx', 'xxx', 'xxxx', 'y', 'yy', 'yyy', 'yyyy', 'z', 'zz', 'zzz', 'zzzz']\n",
      "['x', 'y', 'z', 'xx', 'yy', 'zz', 'xxx', 'yyy', 'zzz', 'xxxx', 'yyyy', 'zzzz']\n",
      "[[2], [3], [4], [3], [4], [5], [4], [5], [6]]\n",
      "[[2, 3, 4, 5], [3, 4, 5, 6], [4, 5, 6, 7], [5, 6, 7, 8]]\n",
      "[(1, 1), (2, 1), (3, 1), (1, 2), (2, 2), (3, 2), (1, 3), (2, 3), (3, 3)]\n"
     ]
    }
   ],
   "source": [
    "x = [i for i in (\"ACADGILD\")]\n",
    "print(x)\n",
    "y = [i*(z+1) for i in ('x','y','z') for z in range(4)]\n",
    "print(y)\n",
    "z = [i*(z+1)for z in range(4) for i in ('x','y','z')]\n",
    "print(z)\n",
    "a = [[i+x] for x in range(1,4) for i in range(1,4)]\n",
    "print(a)\n",
    "l = [[i+j for j in range(1,5)] for i in range(1,5)]\n",
    "print (l)\n",
    "m = [(i,j) for j in range(1,4) for i in range(1,4)]\n",
    "print(m)"
   ]
  },
  {
   "cell_type": "markdown",
   "metadata": {},
   "source": [
    "## 3. Implement a function longestWord() that takes a list of words and returns the longest one."
   ]
  },
  {
   "cell_type": "code",
   "execution_count": 3,
   "metadata": {},
   "outputs": [
    {
     "name": "stdout",
     "output_type": "stream",
     "text": [
      "Longest word in list: Longest word\n"
     ]
    }
   ],
   "source": [
    "def longestWord(args):\n",
    "    arg1 = args[0]\n",
    "    for i in range(1,len(args)):\n",
    "        arg2 = args[i]\n",
    "        if (len(arg1) >= len(arg2)):\n",
    "            next\n",
    "        else:\n",
    "            arg1 = arg2\n",
    "    return arg1\n",
    "\n",
    "name = [\"Venkat\",\"Kumar\",\"Acadgild\",\"Longest word\"]\n",
    "#longestWord function call\n",
    "output = longestWord(name)\n",
    "print(\"Longest word in list:\",output)"
   ]
  },
  {
   "cell_type": "markdown",
   "metadata": {},
   "source": [
    "# 2.4. Problem Statement: PYTHON 4"
   ]
  },
  {
   "cell_type": "markdown",
   "metadata": {},
   "source": [
    "## 1.1 Write a Python Program(with class concepts) to find the area of the triangle using the below formula.\n",
    "## area = (s*(s-a)*(s-b)*(s-c)) ** 0.5\n",
    "## Function to take the length of the sides of triangle from user should be defined in the parent class and function to calculate the area should be defined in subclass. "
   ]
  },
  {
   "cell_type": "code",
   "execution_count": 5,
   "metadata": {},
   "outputs": [
    {
     "name": "stdout",
     "output_type": "stream",
     "text": [
      "Enter side1:10\n",
      "Enter side2:12\n",
      "Enter side3:13\n",
      "Area of Triangle:: 56.99506557588999\n"
     ]
    }
   ],
   "source": [
    "#Polygon class definition\n",
    "class Polygon:\n",
    "    # Initializing self object with number of sides\n",
    "    def __init__(self,num_of_sides):\n",
    "        self.n = num_of_sides\n",
    "    #Funtion for setting values of sides by user\n",
    "    def setValues(self):\n",
    "        self.sides = [float(input(\"Enter side\"+str(i+1)+\":\")) for i in range (self.n)]\n",
    "#Triangle class which inherits polygon class\n",
    "class Triangle(Polygon):\n",
    "    def __init__(self,*args,**kwargs):\n",
    "        super(Triangle,self).__init__(3,*args,**kwargs)\n",
    "    # Area function definition\n",
    "    def Area(self):\n",
    "        s1,s2,s3 = self.sides\n",
    "        s = float((s1+s2+s3)/2)\n",
    "        Area = (s*(s-s1)*(s-s2)*(s-s3))**0.5\n",
    "        return Area\n",
    "# Object creation for triangle class    \n",
    "T1 = Triangle()\n",
    "# Setting values for the sides of triangle \n",
    "T1.setValues()\n",
    "#calculating area for the triangle\n",
    "Triangle_Area = T1.Area()\n",
    "print(\"Area of Triangle::\",Triangle_Area)"
   ]
  },
  {
   "cell_type": "markdown",
   "metadata": {},
   "source": [
    "## 1.2 Write a function filter_long_words() that takes a list of words and an integer n and returns the list of words that are longer than n."
   ]
  },
  {
   "cell_type": "code",
   "execution_count": 7,
   "metadata": {},
   "outputs": [
    {
     "name": "stdout",
     "output_type": "stream",
     "text": [
      "List of words longer than 5: ['Venkat', 'Acadgild', 'Bangalore']\n"
     ]
    }
   ],
   "source": [
    "def filter_long_words(words,num):\n",
    "    output_list = []\n",
    "    for word in words:\n",
    "        if (len(word) > num):\n",
    "            output_list.append(word)\n",
    "        else:\n",
    "            next\n",
    "    return output_list\n",
    "\n",
    "name = [\"Venkat\", \"Kumar\",\"Acadgild\",\"Bangalore\"]\n",
    "num = 5\n",
    "# 'filter_long_words' function call\n",
    "output = filter_long_words(name,num)\n",
    "print(\"List of words longer than\",str(num)+\":\",output)"
   ]
  },
  {
   "cell_type": "markdown",
   "metadata": {},
   "source": [
    "## 2.1 Write a Python program using function concept that maps list of words into a list of integers representing the lengths of the corresponding words.\n",
    "## Hint: If a list [ ab,cde,erty] is passed on to the python function output should come as [2,3,4]\n",
    "## Here 2,3 and 4 are the lengths of the words in the list. "
   ]
  },
  {
   "cell_type": "code",
   "execution_count": 8,
   "metadata": {},
   "outputs": [
    {
     "name": "stdout",
     "output_type": "stream",
     "text": [
      "list for number of character in name list: [2, 3, 4, 8]\n"
     ]
    }
   ],
   "source": [
    "\n",
    "# Function 'string_len' to calculate the length of string/words.\n",
    "def string_len(args):\n",
    "    num_list = []\n",
    "    for arg in args:\n",
    "        num_list.append(len(arg))\n",
    "    return num_list\n",
    "name = [\"ab\",\"cde\",\"erty\",\"Acadgild\"]\n",
    "# 'string_len' fuction call\n",
    "num = string_len(name)\n",
    "print(\"list for number of character in name list:\",num)"
   ]
  },
  {
   "cell_type": "markdown",
   "metadata": {},
   "source": [
    "## 2.2 Write a Python function which takes a character (i.e. a string of length 1) and returns True if it is a vowel, False otherwise."
   ]
  },
  {
   "cell_type": "code",
   "execution_count": 9,
   "metadata": {},
   "outputs": [
    {
     "name": "stdout",
     "output_type": "stream",
     "text": [
      "Enter the character:a\n"
     ]
    },
    {
     "data": {
      "text/plain": [
       "True"
      ]
     },
     "execution_count": 9,
     "metadata": {},
     "output_type": "execute_result"
    }
   ],
   "source": [
    "#Function 'char_check_vowel' definition to check character is vowel or not \n",
    "def char_check_vowel(char):\n",
    "    char1 = char.lower()\n",
    "    if char1 in ['a','e','i','o','u']:\n",
    "        return True\n",
    "    else:\n",
    "        return False\n",
    "# Taking character from user\n",
    "ch = input(\"Enter the character:\")\n",
    "# calling 'char_check_vowel' fuction\n",
    "char_check_vowel(ch)"
   ]
  },
  {
   "cell_type": "markdown",
   "metadata": {},
   "source": [
    "# 2.5. Problem Statement: PYTHON 5"
   ]
  },
  {
   "cell_type": "markdown",
   "metadata": {},
   "source": [
    "## 1. Write a function to compute 5/0 and use try/except to catch the exceptions."
   ]
  },
  {
   "cell_type": "code",
   "execution_count": 10,
   "metadata": {},
   "outputs": [
    {
     "name": "stdout",
     "output_type": "stream",
     "text": [
      "Error:division by zero!\n"
     ]
    }
   ],
   "source": [
    "# divide function definition using exception handling concept\n",
    "def divide(x, y):\n",
    "    try:\n",
    "        result = int(x)/int(y)\n",
    "    except ZeroDivisionError:\n",
    "        print(\"Error:division by zero!\")\n",
    "    else:\n",
    "        print(\"result is\", result)\n",
    "divide(5,0)"
   ]
  },
  {
   "cell_type": "markdown",
   "metadata": {},
   "source": [
    "## 2. Implement a Python program to generate all sentences where subject is in [\"Americans\", \"Indians\"] and verb is in [\"Play\", \"watch\"] and the object is in [\"Baseball\",\"cricket\"]."
   ]
  },
  {
   "cell_type": "code",
   "execution_count": 11,
   "metadata": {},
   "outputs": [
    {
     "name": "stdout",
     "output_type": "stream",
     "text": [
      "Americans play Baseball.\n",
      "Americans play Cricket.\n",
      "Americans watch Baseball.\n",
      "Americans watch Cricket.\n",
      "Indians play Baseball.\n",
      "Indians play Cricket.\n",
      "Indians watch Baseball.\n",
      "Indians watch Cricket.\n"
     ]
    }
   ],
   "source": [
    "subjects = [\"Americans\",\"Indians\"]\n",
    "verbs = [\"play\",\"watch\"]\n",
    "objects = [\"Baseball\",\"Cricket\"]\n",
    "#Iteration over each list\n",
    "for subject in subjects:\n",
    "    for verb in verbs:\n",
    "        for object in objects:\n",
    "            # printing each element of list in specified format\n",
    "            print(subject+\" \"+verb+\" \"+object+\".\")"
   ]
  },
  {
   "cell_type": "code",
   "execution_count": null,
   "metadata": {},
   "outputs": [],
   "source": []
  }
 ],
 "metadata": {
  "kernelspec": {
   "display_name": "Python 3",
   "language": "python",
   "name": "python3"
  },
  "language_info": {
   "codemirror_mode": {
    "name": "ipython",
    "version": 3
   },
   "file_extension": ".py",
   "mimetype": "text/x-python",
   "name": "python",
   "nbconvert_exporter": "python",
   "pygments_lexer": "ipython3",
   "version": "3.7.3"
  }
 },
 "nbformat": 4,
 "nbformat_minor": 2
}
